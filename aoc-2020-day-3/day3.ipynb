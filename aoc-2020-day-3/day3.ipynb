{
 "metadata": {
  "language_info": {
   "codemirror_mode": {
    "name": "ipython",
    "version": 3
   },
   "file_extension": ".py",
   "mimetype": "text/x-python",
   "name": "python",
   "nbconvert_exporter": "python",
   "pygments_lexer": "ipython3",
   "version": "3.8.5-final"
  },
  "orig_nbformat": 2,
  "kernelspec": {
   "name": "python3",
   "display_name": "Python 3"
  }
 },
 "nbformat": 4,
 "nbformat_minor": 2,
 "cells": [
  {
   "cell_type": "code",
   "execution_count": 36,
   "metadata": {},
   "outputs": [
    {
     "output_type": "stream",
     "name": "stdout",
     "text": [
      "323\n"
     ]
    }
   ],
   "source": [
    "# Read input\n",
    "\n",
    "with open(\"input.txt\", \"r\") as input_file:\n",
    "    inp = input_file.readlines()    \n",
    "    inp = [line.strip() for line in inp]"
   ]
  },
  {
   "cell_type": "code",
   "execution_count": 23,
   "metadata": {},
   "outputs": [
    {
     "output_type": "stream",
     "name": "stdout",
     "text": [
      "278\n"
     ]
    }
   ],
   "source": [
    "# part 1\n",
    "\n",
    "width = len(inp[0])\n",
    "mvmt = [3,1] # horizontal, vertical\n",
    "count = 0\n",
    "for i in range(0, len(inp)):\n",
    "    col = i * mvmt[0] % width\n",
    "    row = i * mvmt[1]\n",
    "    if inp[row][col] == '#':\n",
    "        count += 1\n",
    "print(count)"
   ]
  },
  {
   "cell_type": "code",
   "execution_count": 40,
   "metadata": {},
   "outputs": [
    {
     "output_type": "stream",
     "name": "stdout",
     "text": [
      "9709761600\n"
     ]
    }
   ],
   "source": [
    "# part 2\n",
    "answerset = []\n",
    "mvmtset = [[1,1],[3,1],[5,1],[7,1],[1,2]]\n",
    "answer = 1\n",
    "for mvmt in mvmtset:\n",
    "    count = 0\n",
    "    for i in range(0, len(inp)):\n",
    "        col = i * mvmt[0] % width\n",
    "        row = i * mvmt[1]\n",
    "        if row > len(inp):\n",
    "            break\n",
    "        elif inp[row][col] == '#':\n",
    "            count += 1\n",
    "    answerset.append(count) \n",
    "\n",
    "for i in answerset:\n",
    "    answer *= i\n",
    "print(answer)"
   ]
  }
 ]
}