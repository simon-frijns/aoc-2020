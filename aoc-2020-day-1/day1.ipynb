{
 "metadata": {
  "language_info": {
   "codemirror_mode": {
    "name": "ipython",
    "version": 3
   },
   "file_extension": ".py",
   "mimetype": "text/x-python",
   "name": "python",
   "nbconvert_exporter": "python",
   "pygments_lexer": "ipython3",
   "version": "3.8.5-final"
  },
  "orig_nbformat": 2,
  "kernelspec": {
   "name": "python3",
   "display_name": "Python 3.8.5 64-bit",
   "metadata": {
    "interpreter": {
     "hash": "ae91d39a13ecc7f11dd559993d7223604fa4eca39f3d33168533df19edc72082"
    }
   }
  }
 },
 "nbformat": 4,
 "nbformat_minor": 2,
 "cells": [
  {
   "cell_type": "code",
   "execution_count": 1,
   "metadata": {},
   "outputs": [],
   "source": [
    "# Read input\n",
    "\n",
    "with open(\"input.txt\", \"r\") as input_file:\n",
    "    inp = input_file.readlines()\n",
    "    inp = [int(line.strip()) for line in inp]"
   ]
  },
  {
   "cell_type": "code",
   "execution_count": 2,
   "metadata": {
    "tags": []
   },
   "outputs": [],
   "source": [
    "goal = 2020\n",
    "inp.sort() "
   ]
  },
  {
   "cell_type": "code",
   "execution_count": 3,
   "metadata": {},
   "outputs": [
    {
     "output_type": "stream",
     "name": "stdout",
     "text": [
      "545379\n"
     ]
    }
   ],
   "source": [
    "# Part 1\n",
    "\n",
    "def part_one(i,j):\n",
    "    while i < j:\n",
    "        sum_ij = inp[i] + inp[j]\n",
    "        if sum_ij == goal:\n",
    "            return(inp[i] * inp[j]), inp[i], inp[j]\n",
    "        elif sum_ij < goal:\n",
    "            i += 1\n",
    "        else:\n",
    "            j -= 1\n",
    "i = 0\n",
    "j = len(inp) - 1\n",
    "print(part_one(i,j)[0])\n"
   ]
  },
  {
   "cell_type": "code",
   "execution_count": 4,
   "metadata": {},
   "outputs": [
    {
     "output_type": "stream",
     "name": "stdout",
     "text": [
      "257778836\n"
     ]
    }
   ],
   "source": [
    "def part_two(i, j, k):\n",
    "    while i < j:\n",
    "        while k < j:\n",
    "            sum_ijk = inp[i] + inp[j] + inp[k]\n",
    "            if sum_ijk == goal:\n",
    "                return(inp[i] * inp[j] * inp[k]), inp[i], inp[j], inp[k]\n",
    "            elif sum_ijk < goal:\n",
    "                k += 1\n",
    "            else:\n",
    "                j -= 1\n",
    "        i += 1\n",
    "        j = len(inp) - 1\n",
    "        k = i + 1\n",
    "\n",
    "i = 0\n",
    "j = len(inp) - 1\n",
    "k = 1\n",
    "print(part_two(i,j,k)[0])"
   ]
  }
 ]
}
