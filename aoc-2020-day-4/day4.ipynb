{
 "metadata": {
  "language_info": {
   "codemirror_mode": {
    "name": "ipython",
    "version": 3
   },
   "file_extension": ".py",
   "mimetype": "text/x-python",
   "name": "python",
   "nbconvert_exporter": "python",
   "pygments_lexer": "ipython3",
   "version": "3.8.5-final"
  },
  "orig_nbformat": 2,
  "kernelspec": {
   "name": "python3",
   "display_name": "Python 3"
  }
 },
 "nbformat": 4,
 "nbformat_minor": 2,
 "cells": [
  {
   "cell_type": "code",
   "execution_count": 1,
   "metadata": {
    "tags": []
   },
   "outputs": [],
   "source": [
    "# Read input\n",
    "with open(\"input.txt\", \"r\") as input_file:\n",
    "    inp = input_file.read().strip().split('\\n\\n')   \n",
    "# ecl:brn eyr:2029\\ncid:250\\npid:477431667 hgt:177cm\\nbyr:1993 iyr:2020 hcl:#ceb3a1\n",
    "\n",
    "import re\n",
    "\n",
    "ppArr = []\n",
    "for i in inp:\n",
    "    ppArr.append(re.split('[\\s|\\\\n]', i))\n",
    "# output example : ['hgt:190cm', 'cid:103', 'iyr:2018', 'byr:1970', 'ecl:gry', 'eyr:2028', 'pid:549406360', 'hcl:#18171d']"
   ]
  },
  {
   "cell_type": "code",
   "execution_count": 30,
   "metadata": {
    "tags": []
   },
   "outputs": [
    {
     "output_type": "stream",
     "name": "stdout",
     "text": [
      "145\n"
     ]
    }
   ],
   "source": [
    "import numpy as np\n",
    "# fields 1. byr, 2. iyr, 3. eyr, 4. hgt, 5. hcl, 6. ecl, 7. pid, 8. cid\n",
    "vallist = [] \n",
    "result = 0\n",
    "\n",
    "def valCheck(pp):\n",
    "    validity = np.zeros(8)\n",
    "    ecllist = ['amb', 'blu', 'brn', 'gry', 'grn', 'hzl', 'oth']\n",
    "    for field in pp:\n",
    "        cat = field[:3]\n",
    "        val = field[4:]\n",
    "        if cat == 'byr' and 1920 <= int(val) <= 2002:\n",
    "            validity[0] = 1\n",
    "        if cat == 'iyr' and 2010 <= int(val) <= 2020:\n",
    "            validity[1] = 1\n",
    "        if cat == 'eyr' and 2020 <= int(val) <= 2030:\n",
    "            validity[2] = 1\n",
    "        if cat == 'hgt': # add inch/cm\n",
    "            hgt = re.search('^(\\d*)', val).group(1)\n",
    "            if 'cm' in val and 150 <= int(hgt) <= 193:\n",
    "                validity[3] = 1\n",
    "            if 'in' in val and 59 <= int(hgt) <= 76:\n",
    "                validity[3] = 1\n",
    "        if cat == 'hcl' and re.match('(\\#[0-9|a-f]{6})', val):\n",
    "            validity[4] = 1\n",
    "        if cat == 'ecl' and val in ecllist:\n",
    "            validity[5] = 1\n",
    "        if cat == 'pid' and re.match('^(\\d){9}$', val):\n",
    "            validity[6] = 1\n",
    "        # cid\n",
    "    validity[7] = 1\n",
    "    return validity\n",
    "\n",
    "for pp in ppArr: \n",
    "    validity = valCheck(pp)\n",
    "    result += (validity.sum() > 7)\n",
    "    vallist.append(validity)\n",
    "print(result)   \n"
   ]
  }
 ]
}