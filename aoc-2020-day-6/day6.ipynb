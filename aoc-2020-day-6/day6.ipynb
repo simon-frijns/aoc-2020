{
 "metadata": {
  "language_info": {
   "codemirror_mode": {
    "name": "ipython",
    "version": 3
   },
   "file_extension": ".py",
   "mimetype": "text/x-python",
   "name": "python",
   "nbconvert_exporter": "python",
   "pygments_lexer": "ipython3",
   "version": "3.8.5-final"
  },
  "orig_nbformat": 2,
  "kernelspec": {
   "name": "python3",
   "display_name": "Python 3.8.5 64-bit",
   "metadata": {
    "interpreter": {
     "hash": "ae91d39a13ecc7f11dd559993d7223604fa4eca39f3d33168533df19edc72082"
    }
   }
  }
 },
 "nbformat": 4,
 "nbformat_minor": 2,
 "cells": [
  {
   "cell_type": "code",
   "execution_count": null,
   "metadata": {
    "tags": [
     "outputPrepend"
    ]
   },
   "outputs": [],
   "source": [
    "# Read input\n",
    "\n",
    "with open(\"input.txt\", \"r\") as input_file:\n",
    "    inp = input_file.read().split('\\n\\n')\n",
    "# example input - 'xae\\nxaet\\nxea\\nxae\\nexa'"
   ]
  },
  {
   "cell_type": "code",
   "execution_count": null,
   "metadata": {},
   "outputs": [],
   "source": [
    "# part 1\n",
    "\n",
    "answer = []\n",
    "for i, line in enumerate(inp):\n",
    "    answer.append(len(set(line.replace('\\n', ''))))\n",
    "print(sum(answer))"
   ]
  },
  {
   "cell_type": "code",
   "execution_count": null,
   "metadata": {
    "tags": [
     "outputPrepend"
    ]
   },
   "outputs": [],
   "source": [
    "# part 2\n",
    "\n",
    "answer = []\n",
    "for line in inp:\n",
    "    chars = []\n",
    "    arr = line.split()\n",
    "    for i in arr:\n",
    "        chars.append(list(i))\n",
    "    answer.append(len(list(set.intersection(*map(set, chars))))) # https://stackoverflow.com/questions/10861236/\n",
    "print(sum(answer))"
   ]
  },
  {
   "cell_type": "code",
   "execution_count": null,
   "metadata": {},
   "outputs": [],
   "source": []
  }
 ]
}