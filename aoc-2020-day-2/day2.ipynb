{
 "metadata": {
  "language_info": {
   "codemirror_mode": {
    "name": "ipython",
    "version": 3
   },
   "file_extension": ".py",
   "mimetype": "text/x-python",
   "name": "python",
   "nbconvert_exporter": "python",
   "pygments_lexer": "ipython3",
   "version": "3.8.5-final"
  },
  "orig_nbformat": 2,
  "kernelspec": {
   "name": "python3",
   "display_name": "Python 3"
  }
 },
 "nbformat": 4,
 "nbformat_minor": 2,
 "cells": [
  {
   "cell_type": "code",
   "execution_count": 37,
   "metadata": {
    "tags": []
   },
   "outputs": [],
   "source": [
    "# Read input\n",
    "import re\n",
    "\n",
    "with open(\"input.txt\", \"r\") as input_file:\n",
    "    inp = input_file.readlines()\n",
    "    inp = [line.strip() for line in inp]"
   ]
  },
  {
   "cell_type": "code",
   "execution_count": 38,
   "metadata": {},
   "outputs": [
    {
     "output_type": "stream",
     "name": "stdout",
     "text": [
      "445\n"
     ]
    }
   ],
   "source": [
    "# part 1\n",
    "\n",
    "answer = 0\n",
    "\n",
    "for line in inp:\n",
    "    low, high, letter, ignore, password = re.split('[\\-\\s:]', line)\n",
    "    if int(low) <= password.count(letter) <= int(high):\n",
    "        answer += 1\n",
    "\n",
    "print(answer)"
   ]
  },
  {
   "cell_type": "code",
   "execution_count": 45,
   "metadata": {},
   "outputs": [
    {
     "output_type": "stream",
     "name": "stdout",
     "text": [
      "491\n"
     ]
    }
   ],
   "source": [
    "# part 2\n",
    "\n",
    "answer = 0\n",
    "\n",
    "for line in inp:\n",
    "    low, high, letter, ignore, password = re.split('[\\-\\s:]', line)\n",
    "    password = list(password)\n",
    "    low = int(low) - 1\n",
    "    high = int(high) - 1\n",
    "    if (password[low] == letter) != (password[high] == letter):\n",
    "        answer += 1\n",
    "\n",
    "print(answer)"
   ]
  },
  {
   "cell_type": "code",
   "execution_count": null,
   "metadata": {},
   "outputs": [],
   "source": []
  }
 ]
}