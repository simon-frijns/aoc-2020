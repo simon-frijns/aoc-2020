{
 "metadata": {
  "language_info": {
   "codemirror_mode": {
    "name": "ipython",
    "version": 3
   },
   "file_extension": ".py",
   "mimetype": "text/x-python",
   "name": "python",
   "nbconvert_exporter": "python",
   "pygments_lexer": "ipython3",
   "version": "3.8.5-final"
  },
  "orig_nbformat": 2,
  "kernelspec": {
   "name": "python3",
   "display_name": "Python 3.8.5 64-bit",
   "metadata": {
    "interpreter": {
     "hash": "ae91d39a13ecc7f11dd559993d7223604fa4eca39f3d33168533df19edc72082"
    }
   }
  }
 },
 "nbformat": 4,
 "nbformat_minor": 2,
 "cells": [
  {
   "cell_type": "code",
   "execution_count": null,
   "metadata": {},
   "outputs": [],
   "source": [
    "# Read input\n",
    "\n",
    "with open(\"input.txt\", \"r\") as input_file:\n",
    "    inp = input_file.read().splitlines()\n",
    "print(inp)\n",
    "# Example input BBFBFFBRLL"
   ]
  },
  {
   "cell_type": "code",
   "execution_count": null,
   "metadata": {},
   "outputs": [],
   "source": [
    "# part 1\n",
    "def find_seatID(line):\n",
    "    seatID = int(line.replace('F', '0').replace('B','1').replace('L', '0').replace('R','1'), 2)\n",
    "    return seatID\n",
    "\n",
    "answer = []\n",
    "for line in inp:\n",
    "   answer.append(find_seatID(line))\n",
    "print(max(answer))"
   ]
  },
  {
   "cell_type": "code",
   "execution_count": null,
   "metadata": {},
   "outputs": [],
   "source": [
    "# part 2\n",
    "answer.sort()\n",
    "for i in answer:\n",
    "    if i+1 not in answer and i+2 in answer:\n",
    "        print(i+1)"
   ]
  },
  {
   "cell_type": "code",
   "execution_count": null,
   "metadata": {},
   "outputs": [],
   "source": []
  }
 ]
}