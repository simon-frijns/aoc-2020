{
 "metadata": {
  "language_info": {
   "codemirror_mode": {
    "name": "ipython",
    "version": 3
   },
   "file_extension": ".py",
   "mimetype": "text/x-python",
   "name": "python",
   "nbconvert_exporter": "python",
   "pygments_lexer": "ipython3",
   "version": "3.8.5-final"
  },
  "orig_nbformat": 2,
  "kernelspec": {
   "name": "python3",
   "display_name": "Python 3"
  }
 },
 "nbformat": 4,
 "nbformat_minor": 2,
 "cells": [
  {
   "cell_type": "code",
   "execution_count": 2,
   "metadata": {
    "tags": []
   },
   "outputs": [],
   "source": [
    "# read input\n",
    "\n",
    "with open(\"input.txt\", \"r\") as input_file:\n",
    "    inp = input_file.read().strip().split('\\n') \n",
    "# example input: light tan bags contain 3 light purple bags, 2 pale aqua bags, 3 wavy bronze bags."
   ]
  },
  {
   "cell_type": "code",
   "execution_count": 3,
   "metadata": {
    "tags": []
   },
   "outputs": [],
   "source": [
    "# Goal data structure:\n",
    "# colours = [light tan, ...]\n",
    "# contents = [[light purple, pale, wavy], ...]\n",
    "# amounts =  [[3, 2, 3], ...]\n",
    "colours = []\n",
    "contents = []\n",
    "amounts = []\n",
    "\n",
    "import re\n",
    "\n",
    "for i, line in enumerate(inp):\n",
    "    colours.append(re.split('(bags contain)', line)[0].strip()) \n",
    "    arr = []\n",
    "    arr = re.findall('(?<=\\d).*?(?=bag)', line)\n",
    "    arr = list(map(str.strip, arr))\n",
    "    contents.append(arr)\n",
    "    arr = []\n",
    "    arr = re.findall('\\d', line)\n",
    "    arr = list(map(int, arr))\n",
    "    amounts.append(arr)"
   ]
  },
  {
   "cell_type": "code",
   "execution_count": 4,
   "metadata": {},
   "outputs": [],
   "source": [
    "with open(\"testinput.txt\", \"r\") as input_file:\n",
    "    tinp = input_file.read().strip().split('\\n') \n",
    "tcolours = []\n",
    "tcontents = []\n",
    "tamounts = []\n",
    "\n",
    "import re\n",
    "\n",
    "for i, line in enumerate(tinp):\n",
    "    tcolours.append(re.split('(bags contain)', line)[0].strip()) \n",
    "    arr = []\n",
    "    arr = re.findall('(?<=\\d).*?(?=bag)', line)\n",
    "    arr = list(map(str.strip, arr))\n",
    "    tcontents.append(arr)\n",
    "    arr = []\n",
    "    arr = re.findall('\\d', line)\n",
    "    arr = list(map(int, arr))\n",
    "    tamounts.append(arr)"
   ]
  },
  {
   "cell_type": "code",
   "execution_count": 100,
   "metadata": {},
   "outputs": [
    {
     "output_type": "stream",
     "name": "stdout",
     "text": [
      "197\n"
     ]
    }
   ],
   "source": [
    "# part 1\n",
    "\n",
    "win = 'shiny gold'\n",
    "answer = []\n",
    "\n",
    "def contains(colour):\n",
    "    colnum = colours.index(colour)\n",
    "    if not contents[colnum]:\n",
    "        return 0\n",
    "    if win in contents[colnum]:\n",
    "        answer.append(currcol)\n",
    "    for content in contents[colnum]:\n",
    "        if content not in win:\n",
    "            contains(content)\n",
    "\n",
    "for colour in colours:\n",
    "    currcol = colour\n",
    "    contains(colour)\n",
    "\n",
    "print(len(set(answer)))"
   ]
  },
  {
   "cell_type": "code",
   "execution_count": 101,
   "metadata": {},
   "outputs": [
    {
     "output_type": "stream",
     "name": "stdout",
     "text": [
      "85324\n"
     ]
    }
   ],
   "source": [
    "# data structure\n",
    "# colours = [light tan, ...]\n",
    "# contents = [[light purple, pale, wavy], ...]\n",
    "# amounts =  [[3, 2, 3], ...]\n",
    "# so with colnum, we can access bag, contents and amounts.\n",
    "\n",
    "def bagcount(colour):\n",
    "    count = 0\n",
    "    colnum = colours.index(colour)\n",
    "    if not contents[colnum]:\n",
    "        return 0\n",
    "    for i, colour in enumerate(contents[colnum]):\n",
    "        val = amounts[colnum][i]\n",
    "        count += val * (1 + bagcount(colour))\n",
    "    return count\n",
    "print(bagcount(win))"
   ]
  },
  {
   "cell_type": "code",
   "execution_count": null,
   "metadata": {},
   "outputs": [],
   "source": []
  }
 ]
}